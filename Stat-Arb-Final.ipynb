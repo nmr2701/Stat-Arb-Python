{
 "cells": [
  {
   "cell_type": "code",
   "execution_count": 67,
   "id": "1aad083f",
   "metadata": {},
   "outputs": [],
   "source": [
    "#Dependencies\n",
    "import glob,os\n",
    "import pandas as pd\n",
    "import numpy as np\n",
    "import matplotlib.pyplot as plt\n",
    "import matplotlib.dates as mdates\n",
    "import yfinance as yf\n",
    "import statsmodels.api as sm\n",
    "from statsmodels.tsa.stattools import coint"
   ]
  },
  {
   "cell_type": "code",
   "execution_count": 68,
   "id": "88e96236",
   "metadata": {},
   "outputs": [
    {
     "name": "stdout",
     "output_type": "stream",
     "text": [
      "[*********************100%***********************]  2 of 2 completed\n"
     ]
    }
   ],
   "source": [
    "#Stock movement data through yahoo finance and daily reurn calculation\n",
    "Data=yf.download(['KO','PEP'],start='2012-01-01',end='2022-11-14')['Adj Close']\n",
    "Data['KO_Return']=(Data['KO']/Data['KO'].shift(1))-1\n",
    "Data['PEP_Return']=(Data['PEP']/Data['PEP'].shift(1))-1"
   ]
  },
  {
   "cell_type": "code",
   "execution_count": 69,
   "id": "c112a459",
   "metadata": {},
   "outputs": [],
   "source": [
    "Data=Data.dropna()"
   ]
  },
  {
   "cell_type": "code",
   "execution_count": 70,
   "id": "262750da",
   "metadata": {},
   "outputs": [
    {
     "data": {
      "text/html": [
       "<div>\n",
       "<style scoped>\n",
       "    .dataframe tbody tr th:only-of-type {\n",
       "        vertical-align: middle;\n",
       "    }\n",
       "\n",
       "    .dataframe tbody tr th {\n",
       "        vertical-align: top;\n",
       "    }\n",
       "\n",
       "    .dataframe thead th {\n",
       "        text-align: right;\n",
       "    }\n",
       "</style>\n",
       "<table border=\"1\" class=\"dataframe\">\n",
       "  <thead>\n",
       "    <tr style=\"text-align: right;\">\n",
       "      <th></th>\n",
       "      <th>KO</th>\n",
       "      <th>PEP</th>\n",
       "      <th>KO_Return</th>\n",
       "      <th>PEP_Return</th>\n",
       "    </tr>\n",
       "    <tr>\n",
       "      <th>Date</th>\n",
       "      <th></th>\n",
       "      <th></th>\n",
       "      <th></th>\n",
       "      <th></th>\n",
       "    </tr>\n",
       "  </thead>\n",
       "  <tbody>\n",
       "    <tr>\n",
       "      <th>2012-01-04</th>\n",
       "      <td>24.745810</td>\n",
       "      <td>48.538540</td>\n",
       "      <td>-0.006273</td>\n",
       "      <td>0.005120</td>\n",
       "    </tr>\n",
       "    <tr>\n",
       "      <th>2012-01-05</th>\n",
       "      <td>24.628649</td>\n",
       "      <td>48.160358</td>\n",
       "      <td>-0.004735</td>\n",
       "      <td>-0.007791</td>\n",
       "    </tr>\n",
       "    <tr>\n",
       "      <th>2012-01-06</th>\n",
       "      <td>24.472431</td>\n",
       "      <td>47.556717</td>\n",
       "      <td>-0.006343</td>\n",
       "      <td>-0.012534</td>\n",
       "    </tr>\n",
       "    <tr>\n",
       "      <th>2012-01-09</th>\n",
       "      <td>24.472431</td>\n",
       "      <td>47.804001</td>\n",
       "      <td>0.000000</td>\n",
       "      <td>0.005200</td>\n",
       "    </tr>\n",
       "    <tr>\n",
       "      <th>2012-01-10</th>\n",
       "      <td>24.617994</td>\n",
       "      <td>47.753090</td>\n",
       "      <td>0.005948</td>\n",
       "      <td>-0.001065</td>\n",
       "    </tr>\n",
       "    <tr>\n",
       "      <th>...</th>\n",
       "      <td>...</td>\n",
       "      <td>...</td>\n",
       "      <td>...</td>\n",
       "      <td>...</td>\n",
       "    </tr>\n",
       "    <tr>\n",
       "      <th>2022-11-07</th>\n",
       "      <td>59.071060</td>\n",
       "      <td>179.092865</td>\n",
       "      <td>0.003881</td>\n",
       "      <td>0.007999</td>\n",
       "    </tr>\n",
       "    <tr>\n",
       "      <th>2022-11-08</th>\n",
       "      <td>59.180283</td>\n",
       "      <td>179.589767</td>\n",
       "      <td>0.001849</td>\n",
       "      <td>0.002775</td>\n",
       "    </tr>\n",
       "    <tr>\n",
       "      <th>2022-11-09</th>\n",
       "      <td>58.356129</td>\n",
       "      <td>177.443146</td>\n",
       "      <td>-0.013926</td>\n",
       "      <td>-0.011953</td>\n",
       "    </tr>\n",
       "    <tr>\n",
       "      <th>2022-11-10</th>\n",
       "      <td>60.451271</td>\n",
       "      <td>180.573624</td>\n",
       "      <td>0.035903</td>\n",
       "      <td>0.017642</td>\n",
       "    </tr>\n",
       "    <tr>\n",
       "      <th>2022-11-11</th>\n",
       "      <td>60.888168</td>\n",
       "      <td>176.946243</td>\n",
       "      <td>0.007227</td>\n",
       "      <td>-0.020088</td>\n",
       "    </tr>\n",
       "  </tbody>\n",
       "</table>\n",
       "<p>2734 rows × 4 columns</p>\n",
       "</div>"
      ],
      "text/plain": [
       "                   KO         PEP  KO_Return  PEP_Return\n",
       "Date                                                    \n",
       "2012-01-04  24.745810   48.538540  -0.006273    0.005120\n",
       "2012-01-05  24.628649   48.160358  -0.004735   -0.007791\n",
       "2012-01-06  24.472431   47.556717  -0.006343   -0.012534\n",
       "2012-01-09  24.472431   47.804001   0.000000    0.005200\n",
       "2012-01-10  24.617994   47.753090   0.005948   -0.001065\n",
       "...               ...         ...        ...         ...\n",
       "2022-11-07  59.071060  179.092865   0.003881    0.007999\n",
       "2022-11-08  59.180283  179.589767   0.001849    0.002775\n",
       "2022-11-09  58.356129  177.443146  -0.013926   -0.011953\n",
       "2022-11-10  60.451271  180.573624   0.035903    0.017642\n",
       "2022-11-11  60.888168  176.946243   0.007227   -0.020088\n",
       "\n",
       "[2734 rows x 4 columns]"
      ]
     },
     "execution_count": 70,
     "metadata": {},
     "output_type": "execute_result"
    }
   ],
   "source": [
    "Data"
   ]
  },
  {
   "cell_type": "code",
   "execution_count": 71,
   "id": "b8243212",
   "metadata": {},
   "outputs": [
    {
     "data": {
      "image/png": "[encoded data removed]",
      "text/plain": [
       "<Figure size 1080x432 with 2 Axes>"
      ]
     },
     "metadata": {
      "needs_background": "light"
     },
     "output_type": "display_data"
    }
   ],
   "source": [
    "#Graph of stock price of KO vs PEP\n",
    "plt.figure(figsize=(15,6))\n",
    "ax1=Data['KO'].plot(c='red',label='KO')\n",
    "ax2=Data['PEP'].plot(c='blue',label='PEP',secondary_y=True)\n",
    "h1,l1=ax1.get_legend_handles_labels()\n",
    "h2,l2=ax2.get_legend_handles_labels()\n",
    "plt.legend(h1+h2,l1+l2,loc=2)\n",
    "plt.xlabel('Date')\n",
    "plt.ylabel('Price')\n",
    "plt.title('Stock Price Movement')\n",
    "plt.show()"
   ]
  },
  {
   "cell_type": "code",
   "execution_count": 72,
   "id": "5104f303",
   "metadata": {},
   "outputs": [
    {
     "data": {
      "text/plain": [
       "0.9827210125013436"
      ]
     },
     "execution_count": 72,
     "metadata": {},
     "output_type": "execute_result"
    }
   ],
   "source": [
    "#Standard Deviation and correlation to check if stocks are viable for this model... \n",
    "STD1=Data['KO'].std()\n",
    "STD2=Data['PEP'].std()\n",
    "corr=np.cov(Data['KO'],Data['PEP'])[0,1]/(STD1*STD2)\n",
    "corr"
   ]
  },
  {
   "cell_type": "code",
   "execution_count": 95,
   "id": "f2511e58",
   "metadata": {
    "scrolled": true
   },
   "outputs": [
    {
     "data": {
      "text/plain": [
       "0.002131394479720263"
      ]
     },
     "execution_count": 95,
     "metadata": {},
     "output_type": "execute_result"
    }
   ],
   "source": [
    "#Checking if stocks have a low p-value... if yes then stocks are co-integrated which makes the pair good for this model\n",
    "#Most important indicator for wether stocks are good for stat arb\n",
    "score,pvalue,_=coint(Data['KO'],Data['PEP'])\n",
    "pvalue\n"
   ]
  },
  {
   "cell_type": "code",
   "execution_count": 74,
   "id": "96870009",
   "metadata": {},
   "outputs": [],
   "source": [
    "Data['Price_Difference']=Data['PEP']-Data['KO']"
   ]
  },
  {
   "cell_type": "code",
   "execution_count": 75,
   "id": "d7d62823",
   "metadata": {},
   "outputs": [],
   "source": [
    "Data['Rolling_Price_Difference_Average']=Data['Price_Difference'].rolling(window=30).agg(['mean'])"
   ]
  },
  {
   "cell_type": "code",
   "execution_count": 76,
   "id": "11628a0c",
   "metadata": {},
   "outputs": [],
   "source": [
    "Data['Rolling_Price_Difference_std']=Data['Price_Difference'].rolling(window=30).agg(['std'])"
   ]
  },
  {
   "cell_type": "code",
   "execution_count": 77,
   "id": "e4332463",
   "metadata": {},
   "outputs": [],
   "source": [
    "#30 days of rolling average and stand deviation so first 29 days would have no data as a minimum of 30 days are reqiured to calculate average and S.d.\n",
    "#Data.dropna() removes the empty rows (first 29)\n",
    "Data.tail(30)\n",
    "Data=Data.dropna()"
   ]
  },
  {
   "cell_type": "code",
   "execution_count": 78,
   "id": "67615a62",
   "metadata": {
    "scrolled": true
   },
   "outputs": [
    {
     "data": {
      "text/html": [
       "<div>\n",
       "<style scoped>\n",
       "    .dataframe tbody tr th:only-of-type {\n",
       "        vertical-align: middle;\n",
       "    }\n",
       "\n",
       "    .dataframe tbody tr th {\n",
       "        vertical-align: top;\n",
       "    }\n",
       "\n",
       "    .dataframe thead th {\n",
       "        text-align: right;\n",
       "    }\n",
       "</style>\n",
       "<table border=\"1\" class=\"dataframe\">\n",
       "  <thead>\n",
       "    <tr style=\"text-align: right;\">\n",
       "      <th></th>\n",
       "      <th>KO</th>\n",
       "      <th>PEP</th>\n",
       "      <th>KO_Return</th>\n",
       "      <th>PEP_Return</th>\n",
       "      <th>Price_Difference</th>\n",
       "      <th>Rolling_Price_Difference_Average</th>\n",
       "      <th>Rolling_Price_Difference_std</th>\n",
       "    </tr>\n",
       "    <tr>\n",
       "      <th>Date</th>\n",
       "      <th></th>\n",
       "      <th></th>\n",
       "      <th></th>\n",
       "      <th></th>\n",
       "      <th></th>\n",
       "      <th></th>\n",
       "      <th></th>\n",
       "    </tr>\n",
       "  </thead>\n",
       "  <tbody>\n",
       "    <tr>\n",
       "      <th>2012-02-15</th>\n",
       "      <td>24.284277</td>\n",
       "      <td>45.869442</td>\n",
       "      <td>-0.007257</td>\n",
       "      <td>-0.007084</td>\n",
       "      <td>21.585165</td>\n",
       "      <td>23.455539</td>\n",
       "      <td>0.780674</td>\n",
       "    </tr>\n",
       "    <tr>\n",
       "      <th>2012-02-16</th>\n",
       "      <td>24.447584</td>\n",
       "      <td>45.622169</td>\n",
       "      <td>0.006725</td>\n",
       "      <td>-0.005391</td>\n",
       "      <td>21.174585</td>\n",
       "      <td>23.368267</td>\n",
       "      <td>0.881509</td>\n",
       "    </tr>\n",
       "    <tr>\n",
       "      <th>2012-02-17</th>\n",
       "      <td>24.515038</td>\n",
       "      <td>45.585800</td>\n",
       "      <td>0.002759</td>\n",
       "      <td>-0.000797</td>\n",
       "      <td>21.070763</td>\n",
       "      <td>23.286236</td>\n",
       "      <td>0.975292</td>\n",
       "    </tr>\n",
       "    <tr>\n",
       "      <th>2012-02-21</th>\n",
       "      <td>24.433388</td>\n",
       "      <td>45.920357</td>\n",
       "      <td>-0.003331</td>\n",
       "      <td>0.007339</td>\n",
       "      <td>21.486969</td>\n",
       "      <td>23.232992</td>\n",
       "      <td>1.028828</td>\n",
       "    </tr>\n",
       "    <tr>\n",
       "      <th>2012-02-22</th>\n",
       "      <td>24.586052</td>\n",
       "      <td>45.891254</td>\n",
       "      <td>0.006248</td>\n",
       "      <td>-0.000634</td>\n",
       "      <td>21.305202</td>\n",
       "      <td>23.165446</td>\n",
       "      <td>1.087007</td>\n",
       "    </tr>\n",
       "    <tr>\n",
       "      <th>...</th>\n",
       "      <td>...</td>\n",
       "      <td>...</td>\n",
       "      <td>...</td>\n",
       "      <td>...</td>\n",
       "      <td>...</td>\n",
       "      <td>...</td>\n",
       "      <td>...</td>\n",
       "    </tr>\n",
       "    <tr>\n",
       "      <th>2022-11-07</th>\n",
       "      <td>59.071060</td>\n",
       "      <td>179.092865</td>\n",
       "      <td>0.003881</td>\n",
       "      <td>0.007999</td>\n",
       "      <td>120.021805</td>\n",
       "      <td>114.464055</td>\n",
       "      <td>5.144331</td>\n",
       "    </tr>\n",
       "    <tr>\n",
       "      <th>2022-11-08</th>\n",
       "      <td>59.180283</td>\n",
       "      <td>179.589767</td>\n",
       "      <td>0.001849</td>\n",
       "      <td>0.002775</td>\n",
       "      <td>120.409485</td>\n",
       "      <td>114.844441</td>\n",
       "      <td>5.148113</td>\n",
       "    </tr>\n",
       "    <tr>\n",
       "      <th>2022-11-09</th>\n",
       "      <td>58.356129</td>\n",
       "      <td>177.443146</td>\n",
       "      <td>-0.013926</td>\n",
       "      <td>-0.011953</td>\n",
       "      <td>119.087017</td>\n",
       "      <td>115.112486</td>\n",
       "      <td>5.152844</td>\n",
       "    </tr>\n",
       "    <tr>\n",
       "      <th>2022-11-10</th>\n",
       "      <td>60.451271</td>\n",
       "      <td>180.573624</td>\n",
       "      <td>0.035903</td>\n",
       "      <td>0.017642</td>\n",
       "      <td>120.122353</td>\n",
       "      <td>115.469713</td>\n",
       "      <td>5.114899</td>\n",
       "    </tr>\n",
       "    <tr>\n",
       "      <th>2022-11-11</th>\n",
       "      <td>60.888168</td>\n",
       "      <td>176.946243</td>\n",
       "      <td>0.007227</td>\n",
       "      <td>-0.020088</td>\n",
       "      <td>116.058075</td>\n",
       "      <td>115.784234</td>\n",
       "      <td>4.834529</td>\n",
       "    </tr>\n",
       "  </tbody>\n",
       "</table>\n",
       "<p>2705 rows × 7 columns</p>\n",
       "</div>"
      ],
      "text/plain": [
       "                   KO         PEP  KO_Return  PEP_Return  Price_Difference  \\\n",
       "Date                                                                         \n",
       "2012-02-15  24.284277   45.869442  -0.007257   -0.007084         21.585165   \n",
       "2012-02-16  24.447584   45.622169   0.006725   -0.005391         21.174585   \n",
       "2012-02-17  24.515038   45.585800   0.002759   -0.000797         21.070763   \n",
       "2012-02-21  24.433388   45.920357  -0.003331    0.007339         21.486969   \n",
       "2012-02-22  24.586052   45.891254   0.006248   -0.000634         21.305202   \n",
       "...               ...         ...        ...         ...               ...   \n",
       "2022-11-07  59.071060  179.092865   0.003881    0.007999        120.021805   \n",
       "2022-11-08  59.180283  179.589767   0.001849    0.002775        120.409485   \n",
       "2022-11-09  58.356129  177.443146  -0.013926   -0.011953        119.087017   \n",
       "2022-11-10  60.451271  180.573624   0.035903    0.017642        120.122353   \n",
       "2022-11-11  60.888168  176.946243   0.007227   -0.020088        116.058075   \n",
       "\n",
       "            Rolling_Price_Difference_Average  Rolling_Price_Difference_std  \n",
       "Date                                                                        \n",
       "2012-02-15                         23.455539                      0.780674  \n",
       "2012-02-16                         23.368267                      0.881509  \n",
       "2012-02-17                         23.286236                      0.975292  \n",
       "2012-02-21                         23.232992                      1.028828  \n",
       "2012-02-22                         23.165446                      1.087007  \n",
       "...                                      ...                           ...  \n",
       "2022-11-07                        114.464055                      5.144331  \n",
       "2022-11-08                        114.844441                      5.148113  \n",
       "2022-11-09                        115.112486                      5.152844  \n",
       "2022-11-10                        115.469713                      5.114899  \n",
       "2022-11-11                        115.784234                      4.834529  \n",
       "\n",
       "[2705 rows x 7 columns]"
      ]
     },
     "execution_count": 78,
     "metadata": {},
     "output_type": "execute_result"
    }
   ],
   "source": [
    "Data"
   ]
  },
  {
   "cell_type": "code",
   "execution_count": 79,
   "id": "15c777ca",
   "metadata": {
    "scrolled": false
   },
   "outputs": [
    {
     "name": "stderr",
     "output_type": "stream",
     "text": [
      "<ipython-input-79-c9bd7e67338f>:3: SettingWithCopyWarning: \n",
      "A value is trying to be set on a copy of a slice from a DataFrame.\n",
      "Try using .loc[row_indexer,col_indexer] = value instead\n",
      "\n",
      "See the caveats in the documentation: https://pandas.pydata.org/pandas-docs/stable/user_guide/indexing.html#returning-a-view-versus-a-copy\n",
      "  Data['Z_Score']=(Data['Price_Difference']-Data['Rolling_Price_Difference_Average'])/Data['Rolling_Price_Difference_std']\n",
      "<ipython-input-79-c9bd7e67338f>:4: SettingWithCopyWarning: \n",
      "A value is trying to be set on a copy of a slice from a DataFrame.\n",
      "Try using .loc[row_indexer,col_indexer] = value instead\n",
      "\n",
      "See the caveats in the documentation: https://pandas.pydata.org/pandas-docs/stable/user_guide/indexing.html#returning-a-view-versus-a-copy\n",
      "  Data['Spread']=np.log(Data['PEP'])-N*np.log(Data['KO'])\n"
     ]
    }
   ],
   "source": [
    "#Calculation of Z-score, marker for when to buy\n",
    "N=1.5\n",
    "Data['Z_Score']=(Data['Price_Difference']-Data['Rolling_Price_Difference_Average'])/Data['Rolling_Price_Difference_std']\n",
    "Data['Spread']=np.log(Data['PEP'])-N*np.log(Data['KO'])\n",
    "#plt.plot(Data['Spread'])"
   ]
  },
  {
   "cell_type": "code",
   "execution_count": 80,
   "id": "d2f29a79",
   "metadata": {},
   "outputs": [
    {
     "data": {
      "text/html": [
       "<div>\n",
       "<style scoped>\n",
       "    .dataframe tbody tr th:only-of-type {\n",
       "        vertical-align: middle;\n",
       "    }\n",
       "\n",
       "    .dataframe tbody tr th {\n",
       "        vertical-align: top;\n",
       "    }\n",
       "\n",
       "    .dataframe thead th {\n",
       "        text-align: right;\n",
       "    }\n",
       "</style>\n",
       "<table border=\"1\" class=\"dataframe\">\n",
       "  <thead>\n",
       "    <tr style=\"text-align: right;\">\n",
       "      <th></th>\n",
       "      <th>KO</th>\n",
       "      <th>PEP</th>\n",
       "      <th>KO_Return</th>\n",
       "      <th>PEP_Return</th>\n",
       "      <th>Price_Difference</th>\n",
       "      <th>Rolling_Price_Difference_Average</th>\n",
       "      <th>Rolling_Price_Difference_std</th>\n",
       "      <th>Z_Score</th>\n",
       "      <th>Spread</th>\n",
       "    </tr>\n",
       "    <tr>\n",
       "      <th>Date</th>\n",
       "      <th></th>\n",
       "      <th></th>\n",
       "      <th></th>\n",
       "      <th></th>\n",
       "      <th></th>\n",
       "      <th></th>\n",
       "      <th></th>\n",
       "      <th></th>\n",
       "      <th></th>\n",
       "    </tr>\n",
       "  </thead>\n",
       "  <tbody>\n",
       "    <tr>\n",
       "      <th>2012-02-15</th>\n",
       "      <td>24.284277</td>\n",
       "      <td>45.869442</td>\n",
       "      <td>-0.007257</td>\n",
       "      <td>-0.007084</td>\n",
       "      <td>21.585165</td>\n",
       "      <td>23.455539</td>\n",
       "      <td>0.780674</td>\n",
       "      <td>-2.395844</td>\n",
       "      <td>-0.958945</td>\n",
       "    </tr>\n",
       "    <tr>\n",
       "      <th>2012-02-16</th>\n",
       "      <td>24.447584</td>\n",
       "      <td>45.622169</td>\n",
       "      <td>0.006725</td>\n",
       "      <td>-0.005391</td>\n",
       "      <td>21.174585</td>\n",
       "      <td>23.368267</td>\n",
       "      <td>0.881509</td>\n",
       "      <td>-2.488553</td>\n",
       "      <td>-0.974403</td>\n",
       "    </tr>\n",
       "    <tr>\n",
       "      <th>2012-02-17</th>\n",
       "      <td>24.515038</td>\n",
       "      <td>45.585800</td>\n",
       "      <td>0.002759</td>\n",
       "      <td>-0.000797</td>\n",
       "      <td>21.070763</td>\n",
       "      <td>23.286236</td>\n",
       "      <td>0.975292</td>\n",
       "      <td>-2.271600</td>\n",
       "      <td>-0.979334</td>\n",
       "    </tr>\n",
       "    <tr>\n",
       "      <th>2012-02-21</th>\n",
       "      <td>24.433388</td>\n",
       "      <td>45.920357</td>\n",
       "      <td>-0.003331</td>\n",
       "      <td>0.007339</td>\n",
       "      <td>21.486969</td>\n",
       "      <td>23.232992</td>\n",
       "      <td>1.028828</td>\n",
       "      <td>-1.697098</td>\n",
       "      <td>-0.967017</td>\n",
       "    </tr>\n",
       "    <tr>\n",
       "      <th>2012-02-22</th>\n",
       "      <td>24.586052</td>\n",
       "      <td>45.891254</td>\n",
       "      <td>0.006248</td>\n",
       "      <td>-0.000634</td>\n",
       "      <td>21.305202</td>\n",
       "      <td>23.165446</td>\n",
       "      <td>1.087007</td>\n",
       "      <td>-1.711345</td>\n",
       "      <td>-0.976994</td>\n",
       "    </tr>\n",
       "    <tr>\n",
       "      <th>...</th>\n",
       "      <td>...</td>\n",
       "      <td>...</td>\n",
       "      <td>...</td>\n",
       "      <td>...</td>\n",
       "      <td>...</td>\n",
       "      <td>...</td>\n",
       "      <td>...</td>\n",
       "      <td>...</td>\n",
       "      <td>...</td>\n",
       "    </tr>\n",
       "    <tr>\n",
       "      <th>2022-11-07</th>\n",
       "      <td>59.071060</td>\n",
       "      <td>179.092865</td>\n",
       "      <td>0.003881</td>\n",
       "      <td>0.007999</td>\n",
       "      <td>120.021805</td>\n",
       "      <td>114.464055</td>\n",
       "      <td>5.144331</td>\n",
       "      <td>1.080364</td>\n",
       "      <td>-0.930207</td>\n",
       "    </tr>\n",
       "    <tr>\n",
       "      <th>2022-11-08</th>\n",
       "      <td>59.180283</td>\n",
       "      <td>179.589767</td>\n",
       "      <td>0.001849</td>\n",
       "      <td>0.002775</td>\n",
       "      <td>120.409485</td>\n",
       "      <td>114.844441</td>\n",
       "      <td>5.148113</td>\n",
       "      <td>1.080987</td>\n",
       "      <td>-0.930207</td>\n",
       "    </tr>\n",
       "    <tr>\n",
       "      <th>2022-11-09</th>\n",
       "      <td>58.356129</td>\n",
       "      <td>177.443146</td>\n",
       "      <td>-0.013926</td>\n",
       "      <td>-0.011953</td>\n",
       "      <td>119.087017</td>\n",
       "      <td>115.112486</td>\n",
       "      <td>5.152844</td>\n",
       "      <td>0.771328</td>\n",
       "      <td>-0.921196</td>\n",
       "    </tr>\n",
       "    <tr>\n",
       "      <th>2022-11-10</th>\n",
       "      <td>60.451271</td>\n",
       "      <td>180.573624</td>\n",
       "      <td>0.035903</td>\n",
       "      <td>0.017642</td>\n",
       "      <td>120.122353</td>\n",
       "      <td>115.469713</td>\n",
       "      <td>5.114899</td>\n",
       "      <td>0.909625</td>\n",
       "      <td>-0.956618</td>\n",
       "    </tr>\n",
       "    <tr>\n",
       "      <th>2022-11-11</th>\n",
       "      <td>60.888168</td>\n",
       "      <td>176.946243</td>\n",
       "      <td>0.007227</td>\n",
       "      <td>-0.020088</td>\n",
       "      <td>116.058075</td>\n",
       "      <td>115.784234</td>\n",
       "      <td>4.834529</td>\n",
       "      <td>0.056643</td>\n",
       "      <td>-0.987712</td>\n",
       "    </tr>\n",
       "  </tbody>\n",
       "</table>\n",
       "<p>2705 rows × 9 columns</p>\n",
       "</div>"
      ],
      "text/plain": [
       "                   KO         PEP  KO_Return  PEP_Return  Price_Difference  \\\n",
       "Date                                                                         \n",
       "2012-02-15  24.284277   45.869442  -0.007257   -0.007084         21.585165   \n",
       "2012-02-16  24.447584   45.622169   0.006725   -0.005391         21.174585   \n",
       "2012-02-17  24.515038   45.585800   0.002759   -0.000797         21.070763   \n",
       "2012-02-21  24.433388   45.920357  -0.003331    0.007339         21.486969   \n",
       "2012-02-22  24.586052   45.891254   0.006248   -0.000634         21.305202   \n",
       "...               ...         ...        ...         ...               ...   \n",
       "2022-11-07  59.071060  179.092865   0.003881    0.007999        120.021805   \n",
       "2022-11-08  59.180283  179.589767   0.001849    0.002775        120.409485   \n",
       "2022-11-09  58.356129  177.443146  -0.013926   -0.011953        119.087017   \n",
       "2022-11-10  60.451271  180.573624   0.035903    0.017642        120.122353   \n",
       "2022-11-11  60.888168  176.946243   0.007227   -0.020088        116.058075   \n",
       "\n",
       "            Rolling_Price_Difference_Average  Rolling_Price_Difference_std  \\\n",
       "Date                                                                         \n",
       "2012-02-15                         23.455539                      0.780674   \n",
       "2012-02-16                         23.368267                      0.881509   \n",
       "2012-02-17                         23.286236                      0.975292   \n",
       "2012-02-21                         23.232992                      1.028828   \n",
       "2012-02-22                         23.165446                      1.087007   \n",
       "...                                      ...                           ...   \n",
       "2022-11-07                        114.464055                      5.144331   \n",
       "2022-11-08                        114.844441                      5.148113   \n",
       "2022-11-09                        115.112486                      5.152844   \n",
       "2022-11-10                        115.469713                      5.114899   \n",
       "2022-11-11                        115.784234                      4.834529   \n",
       "\n",
       "             Z_Score    Spread  \n",
       "Date                            \n",
       "2012-02-15 -2.395844 -0.958945  \n",
       "2012-02-16 -2.488553 -0.974403  \n",
       "2012-02-17 -2.271600 -0.979334  \n",
       "2012-02-21 -1.697098 -0.967017  \n",
       "2012-02-22 -1.711345 -0.976994  \n",
       "...              ...       ...  \n",
       "2022-11-07  1.080364 -0.930207  \n",
       "2022-11-08  1.080987 -0.930207  \n",
       "2022-11-09  0.771328 -0.921196  \n",
       "2022-11-10  0.909625 -0.956618  \n",
       "2022-11-11  0.056643 -0.987712  \n",
       "\n",
       "[2705 rows x 9 columns]"
      ]
     },
     "execution_count": 80,
     "metadata": {},
     "output_type": "execute_result"
    }
   ],
   "source": [
    "Data"
   ]
  },
  {
   "cell_type": "code",
   "execution_count": 81,
   "id": "5e403a19",
   "metadata": {},
   "outputs": [
    {
     "data": {
      "text/plain": [
       "[<matplotlib.lines.Line2D at 0x7fb951fc1a00>]"
      ]
     },
     "execution_count": 81,
     "metadata": {},
     "output_type": "execute_result"
    },
    {
     "data": {
      "image/png": "[encoded data removed]",
      "text/plain": [
       "<Figure size 1080x432 with 1 Axes>"
      ]
     },
     "metadata": {
      "needs_background": "light"
     },
     "output_type": "display_data"
    }
   ],
   "source": [
    "#Z-Score Plotted with respect to time\n",
    "plt.figure(figsize=(15,6))\n",
    "plt.axhline(y=0,color='black',linestyle='-')\n",
    "plt.axhline(y=1.38,color='black',linestyle='-')\n",
    "plt.axhline(y=-1.38,color='black',linestyle='-')\n",
    "plt.plot(Data['Z_Score'])"
   ]
  },
  {
   "cell_type": "code",
   "execution_count": 82,
   "id": "a0e15c4b",
   "metadata": {},
   "outputs": [],
   "source": [
    "#Constants and varaibles for trading algorithm\n",
    "Return=[]\n",
    "Return.append(1) \n",
    "Base=1\n",
    "status = False\n",
    "long = False\n",
    "PEP_Weight=0.91\n",
    "KO_Weight=0.09\n",
    "Max_Threshold=1.05\n",
    "Min_Threshold=0.9507"
   ]
  },
  {
   "cell_type": "code",
   "execution_count": 83,
   "id": "704deb9b",
   "metadata": {},
   "outputs": [],
   "source": [
    "#This function calculates the return on the days we are trading and also sell trades if the return falls by a great fixed margin\n",
    "#This function is only executed when we buy into the market\n",
    "def checker(Base,i,long,status):\n",
    "    if long == True: #Long Coke Short PEPsi\n",
    "        Return.append(Return[-1]*(1+(Data['KO_Return'][i])*KO_Weight-(Data['PEP_Return'][i])*PEP_Weight))\n",
    "        if Return[-1] > Max_Threshold*Base:\n",
    "            Base = Return[-1]\n",
    "            print(Return[-1])\n",
    "        elif Return[-1] < Min_Threshold*Base:\n",
    "            status = False\n",
    "            print(Return[-1])\n",
    "            Base = Return[-1]\n",
    "        else:\n",
    "            pass\n",
    "            \n",
    "    else: #Long PEPsi Short Coke\n",
    "        Return.append(Return[-1]*(1-(Data['KO_Return'][i])*KO_Weight+(Data['PEP_Return'][i])*PEP_Weight))\n",
    "        if Return[-1] > Max_Threshold*Base:\n",
    "            Base = Return[-1]\n",
    "        elif Return[-1] < Min_Threshold*Base:\n",
    "            status = False\n",
    "            Base = Return[-1]\n",
    "        else:\n",
    "            pass\n",
    "    return status, Base\n",
    "        "
   ]
  },
  {
   "cell_type": "code",
   "execution_count": 84,
   "id": "3d1ae70d",
   "metadata": {},
   "outputs": [],
   "source": [
    "#This function is called when we are not holding an active postion\n",
    "#Calls the function above whenever a trade deemed viable by Z-score comparisons\n",
    "def buy(i):\n",
    "        if ((Data['PEP'][i-1]) > ((Data['PEP'][i]) *1.1) and (Data['KO'][i-1]) > ((Data['KO'][i]) *1.1) ) :\n",
    "            status = False\n",
    "            long =False\n",
    "            Return.append(Return[-1])\n",
    "        else:\n",
    "            if Data['Z_Score'][i]<-1.38:  #1.38\"\n",
    "                status = True\n",
    "                long = False\n",
    "                Return.append(Return[-1])\n",
    "            elif Data['Z_Score'][i]>1.38:\n",
    "                status = True \n",
    "                long = True\n",
    "                Return.append(Return[-1])\n",
    "            else:\n",
    "                status = False\n",
    "                long = False\n",
    "                Return.append(Return[-1])\n",
    "            \n",
    "        return status, long\n",
    "    \n",
    "    \n"
   ]
  },
  {
   "cell_type": "code",
   "execution_count": 85,
   "id": "a28667a7",
   "metadata": {},
   "outputs": [],
   "source": [
    "#Checks which function to call based on the output\n",
    "#Loops through every day, allowing us to simulate returns over a given time period\n",
    "def main(status, Base, long):\n",
    "    for i in range(0,len(Data)-1):\n",
    "        if status == False:\n",
    "            status , long = buy(i)\n",
    "        else:\n",
    "            status , Base = checker(Base, i, long,status)\n",
    "            \n",
    "main(status, Base, long)"
   ]
  },
  {
   "cell_type": "code",
   "execution_count": 86,
   "id": "d1cc5aec",
   "metadata": {
    "scrolled": false
   },
   "outputs": [
    {
     "data": {
      "text/plain": [
       "Text(0.5, 1.0, 'Return')"
      ]
     },
     "execution_count": 86,
     "metadata": {},
     "output_type": "execute_result"
    },
    {
     "data": {
      "image/png": "[encoded data removed]",
      "text/plain": [
       "<Figure size 432x288 with 1 Axes>"
      ]
     },
     "metadata": {
      "needs_background": "light"
     },
     "output_type": "display_data"
    }
   ],
   "source": [
    "plt.plot(Return)\n",
    "plt.title(\"Return\")"
   ]
  },
  {
   "cell_type": "code",
   "execution_count": 87,
   "id": "8b7af110",
   "metadata": {},
   "outputs": [],
   "source": [
    "Return=np.array(Return)\n",
    "Return=pd.DataFrame(Return)\n",
    "Return.columns=['Portfolio Return']\n",
    "Return.index=Data.index"
   ]
  },
  {
   "cell_type": "code",
   "execution_count": 88,
   "id": "c6060fe0",
   "metadata": {},
   "outputs": [
    {
     "name": "stdout",
     "output_type": "stream",
     "text": [
      "[*********************100%***********************]  1 of 1 completed\n"
     ]
    }
   ],
   "source": [
    "Market=yf.download('^GSPC',start='2012-02-14',end='2022-11-14')['Adj Close']\n",
    "Market=pd.DataFrame(Market)\n",
    "Market['Return']=Market['Adj Close'].pct_change()\n",
    "Market=Market.dropna()"
   ]
  },
  {
   "cell_type": "code",
   "execution_count": 89,
   "id": "d9fdc2d9",
   "metadata": {},
   "outputs": [],
   "source": [
    "Market_Portfolio=[]\n",
    "Market_Portfolio.append(1)"
   ]
  },
  {
   "cell_type": "code",
   "execution_count": 90,
   "id": "a78338df",
   "metadata": {},
   "outputs": [],
   "source": [
    "for i in range(len(Market)-1):\n",
    "    Market_Portfolio.append(Market_Portfolio[i]*(1+Market['Return'][i]))"
   ]
  },
  {
   "cell_type": "code",
   "execution_count": 91,
   "id": "c74c9e3c",
   "metadata": {},
   "outputs": [
    {
     "data": {
      "text/html": [
       "<div>\n",
       "<style scoped>\n",
       "    .dataframe tbody tr th:only-of-type {\n",
       "        vertical-align: middle;\n",
       "    }\n",
       "\n",
       "    .dataframe tbody tr th {\n",
       "        vertical-align: top;\n",
       "    }\n",
       "\n",
       "    .dataframe thead th {\n",
       "        text-align: right;\n",
       "    }\n",
       "</style>\n",
       "<table border=\"1\" class=\"dataframe\">\n",
       "  <thead>\n",
       "    <tr style=\"text-align: right;\">\n",
       "      <th></th>\n",
       "      <th>Market Return</th>\n",
       "    </tr>\n",
       "    <tr>\n",
       "      <th>Date</th>\n",
       "      <th></th>\n",
       "    </tr>\n",
       "  </thead>\n",
       "  <tbody>\n",
       "    <tr>\n",
       "      <th>2012-02-15</th>\n",
       "      <td>1.000000</td>\n",
       "    </tr>\n",
       "    <tr>\n",
       "      <th>2012-02-16</th>\n",
       "      <td>0.994617</td>\n",
       "    </tr>\n",
       "    <tr>\n",
       "      <th>2012-02-17</th>\n",
       "      <td>1.005583</td>\n",
       "    </tr>\n",
       "    <tr>\n",
       "      <th>2012-02-21</th>\n",
       "      <td>1.007945</td>\n",
       "    </tr>\n",
       "    <tr>\n",
       "      <th>2012-02-22</th>\n",
       "      <td>1.008671</td>\n",
       "    </tr>\n",
       "    <tr>\n",
       "      <th>...</th>\n",
       "      <td>...</td>\n",
       "    </tr>\n",
       "    <tr>\n",
       "      <th>2022-11-07</th>\n",
       "      <td>2.791966</td>\n",
       "    </tr>\n",
       "    <tr>\n",
       "      <th>2022-11-08</th>\n",
       "      <td>2.818808</td>\n",
       "    </tr>\n",
       "    <tr>\n",
       "      <th>2022-11-09</th>\n",
       "      <td>2.834587</td>\n",
       "    </tr>\n",
       "    <tr>\n",
       "      <th>2022-11-10</th>\n",
       "      <td>2.775691</td>\n",
       "    </tr>\n",
       "    <tr>\n",
       "      <th>2022-11-11</th>\n",
       "      <td>2.929560</td>\n",
       "    </tr>\n",
       "  </tbody>\n",
       "</table>\n",
       "<p>2705 rows × 1 columns</p>\n",
       "</div>"
      ],
      "text/plain": [
       "            Market Return\n",
       "Date                     \n",
       "2012-02-15       1.000000\n",
       "2012-02-16       0.994617\n",
       "2012-02-17       1.005583\n",
       "2012-02-21       1.007945\n",
       "2012-02-22       1.008671\n",
       "...                   ...\n",
       "2022-11-07       2.791966\n",
       "2022-11-08       2.818808\n",
       "2022-11-09       2.834587\n",
       "2022-11-10       2.775691\n",
       "2022-11-11       2.929560\n",
       "\n",
       "[2705 rows x 1 columns]"
      ]
     },
     "execution_count": 91,
     "metadata": {},
     "output_type": "execute_result"
    }
   ],
   "source": [
    "Market_Portfolio=np.array(Market_Portfolio)\n",
    "Market_Portfolio=pd.DataFrame(Market_Portfolio)\n",
    "Market_Portfolio.columns=['Market Return']\n",
    "Market_Portfolio.index=Market.index\n",
    "Market_Portfolio"
   ]
  },
  {
   "cell_type": "code",
   "execution_count": 92,
   "id": "f70d51c0",
   "metadata": {},
   "outputs": [
    {
     "data": {
      "text/plain": [
       "<matplotlib.legend.Legend at 0x7fb951476b80>"
      ]
     },
     "execution_count": 92,
     "metadata": {},
     "output_type": "execute_result"
    },
    {
     "data": {
      "image/png": "[encoded data removed]",
      "text/plain": [
       "<Figure size 1080x432 with 1 Axes>"
      ]
     },
     "metadata": {
      "needs_background": "light"
     },
     "output_type": "display_data"
    }
   ],
   "source": [
    "plt.figure(figsize=(15,6))\n",
    "plt.plot(Return,lw=2,label='Portofolio_Return',color='blue')\n",
    "plt.plot(Market_Portfolio,lw=2,label='Market_Return',color='red')\n",
    "plt.title(\"Market_Return VS Portfolio Return\")\n",
    "plt.ylabel(\"Net Value\")\n",
    "plt.xlabel(\"Time Series\")\n",
    "plt.legend()"
   ]
  },
  {
   "cell_type": "code",
   "execution_count": 93,
   "id": "47a95e48",
   "metadata": {},
   "outputs": [
    {
     "data": {
      "text/html": [
       "<div>\n",
       "<style scoped>\n",
       "    .dataframe tbody tr th:only-of-type {\n",
       "        vertical-align: middle;\n",
       "    }\n",
       "\n",
       "    .dataframe tbody tr th {\n",
       "        vertical-align: top;\n",
       "    }\n",
       "\n",
       "    .dataframe thead th {\n",
       "        text-align: right;\n",
       "    }\n",
       "</style>\n",
       "<table border=\"1\" class=\"dataframe\">\n",
       "  <thead>\n",
       "    <tr style=\"text-align: right;\">\n",
       "      <th></th>\n",
       "      <th>Portfolio Return</th>\n",
       "    </tr>\n",
       "    <tr>\n",
       "      <th>Date</th>\n",
       "      <th></th>\n",
       "    </tr>\n",
       "  </thead>\n",
       "  <tbody>\n",
       "    <tr>\n",
       "      <th>2012-02-15</th>\n",
       "      <td>1.000000</td>\n",
       "    </tr>\n",
       "    <tr>\n",
       "      <th>2012-02-16</th>\n",
       "      <td>1.000000</td>\n",
       "    </tr>\n",
       "    <tr>\n",
       "      <th>2012-02-17</th>\n",
       "      <td>1.000000</td>\n",
       "    </tr>\n",
       "    <tr>\n",
       "      <th>2012-02-21</th>\n",
       "      <td>0.999026</td>\n",
       "    </tr>\n",
       "    <tr>\n",
       "      <th>2012-02-22</th>\n",
       "      <td>1.005998</td>\n",
       "    </tr>\n",
       "    <tr>\n",
       "      <th>...</th>\n",
       "      <td>...</td>\n",
       "    </tr>\n",
       "    <tr>\n",
       "      <th>2022-11-07</th>\n",
       "      <td>3.743499</td>\n",
       "    </tr>\n",
       "    <tr>\n",
       "      <th>2022-11-08</th>\n",
       "      <td>3.769440</td>\n",
       "    </tr>\n",
       "    <tr>\n",
       "      <th>2022-11-09</th>\n",
       "      <td>3.778330</td>\n",
       "    </tr>\n",
       "    <tr>\n",
       "      <th>2022-11-10</th>\n",
       "      <td>3.741968</td>\n",
       "    </tr>\n",
       "    <tr>\n",
       "      <th>2022-11-11</th>\n",
       "      <td>3.789951</td>\n",
       "    </tr>\n",
       "  </tbody>\n",
       "</table>\n",
       "<p>2705 rows × 1 columns</p>\n",
       "</div>"
      ],
      "text/plain": [
       "            Portfolio Return\n",
       "Date                        \n",
       "2012-02-15          1.000000\n",
       "2012-02-16          1.000000\n",
       "2012-02-17          1.000000\n",
       "2012-02-21          0.999026\n",
       "2012-02-22          1.005998\n",
       "...                      ...\n",
       "2022-11-07          3.743499\n",
       "2022-11-08          3.769440\n",
       "2022-11-09          3.778330\n",
       "2022-11-10          3.741968\n",
       "2022-11-11          3.789951\n",
       "\n",
       "[2705 rows x 1 columns]"
      ]
     },
     "execution_count": 93,
     "metadata": {},
     "output_type": "execute_result"
    }
   ],
   "source": [
    "Return"
   ]
  },
  {
   "cell_type": "code",
   "execution_count": 94,
   "id": "de3f9f5f",
   "metadata": {},
   "outputs": [
    {
     "name": "stdout",
     "output_type": "stream",
     "text": [
      "The Market Annual Return is 11.35 %\n",
      "The Portfolio Annual Return is 14.25 %\n"
     ]
    }
   ],
   "source": [
    "print(\"The Market Annual Return is\",((Market_Portfolio.iloc[-1,-1]**(1/10)-1)*100).round(2),\"%\")\n",
    "print(\"The Portfolio Annual Return is\",((Return.iloc[-1,-1]**(1/10)-1)*100).round(2),\"%\")"
   ]
  }
 ],
 "metadata": {
  "kernelspec": {
   "display_name": "Python 3",
   "language": "python",
   "name": "python3"
  },
  "language_info": {
   "codemirror_mode": {
    "name": "ipython",
    "version": 3
   },
   "file_extension": ".py",
   "mimetype": "text/x-python",
   "name": "python",
   "nbconvert_exporter": "python",
   "pygments_lexer": "ipython3",
   "version": "3.8.8"
  },
  "vscode": {
   "interpreter": {
    "hash": "e6b9563c2d5f39a0f14e96863a92c28173db3617b8e00a6322a2465c297cc121"
   }
  }
 },
 "nbformat": 4,
 "nbformat_minor": 5
}
